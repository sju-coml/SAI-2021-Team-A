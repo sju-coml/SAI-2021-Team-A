{
  "nbformat": 4,
  "nbformat_minor": 0,
  "metadata": {
    "colab": {
      "name": "U-Net",
      "provenance": [],
      "collapsed_sections": []
    },
    "kernelspec": {
      "name": "python3",
      "display_name": "Python 3"
    },
    "language_info": {
      "name": "python"
    }
  },
  "cells": [
    {
      "cell_type": "code",
      "metadata": {
        "id": "neTlFzeyaVCW"
      },
      "source": [
        "import torch\n",
        "import torch.nn as nn\n",
        "import torchvision.transforms.functional as TF"
      ],
      "execution_count": 3,
      "outputs": []
    },
    {
      "cell_type": "code",
      "metadata": {
        "id": "MHsCzGTja1S1"
      },
      "source": [
        "class DoubleConv(nn.Module):\n",
        "  def __init__(self, in_channels, out_channels):\n",
        "    super(DoubleConv, self).__init__()\n",
        "    self.conv == nn.Sequential(\n",
        "        nn.Conv2d(in_channels, out_channels, 3, 1, 1, bias = False),\n",
        "        nn.BatchNorm2d(out_channels),\n",
        "        nn.ReLU(inplace=True),\n",
        "        nn.Conv2d(in_channels, out_channels, 3, 1, 1, bias = False),\n",
        "        nn.BatchNorm2d(out_channels),\n",
        "        nn.ReLU(inplace=True),\n",
        "    )\n",
        "\n",
        "  def forward(self, x):\n",
        "    return self.conv(x)"
      ],
      "execution_count": 7,
      "outputs": []
    },
    {
      "cell_type": "code",
      "metadata": {
        "id": "eNOV7rBDdQ5j"
      },
      "source": [
        "class UNET(nn.Module):\n",
        "  def __init__(\n",
        "      self, in_channels = 3, out_channels = 1, features=[64,128,256,512],\n",
        "  ):\n",
        "      super(UNET, self).__init__()\n",
        "      self.ups = nn.ModuleList()\n",
        "      self.downs = nn.ModuleList()\n",
        "      self.pool = nn.MaxPool2d(kernel_size = 2, stride = 2)\n",
        "      # if, input 161x161 -> output 160x160 : can't concat     ----- (1)\n",
        "\n",
        "      #Down part of UNET\n",
        "      for feature in features:\n",
        "        self.downs.append(DoubleConv(in_channels, feature))\n",
        "        in_channels = feature\n",
        "\n",
        "      #Up part of UNET\n",
        "      for feature in reversed(features):\n",
        "        self.ups.append(\n",
        "            nn.ConvTranspose2d(\n",
        "                feature*2, feature, kernel_size =2 , stride =2,\n",
        "            )\n",
        "        )\n",
        "        self.ups.append(DoubleConv(feature*2, feature))\n",
        "\n",
        "      self.bottleneck = DoubleConv(features[-1], features[-1]*2)\n",
        "      self.final_conv = nn.Conv2d(features[0], out_channels, kernal_size=1)\n",
        "\n",
        "  def forward(self, x):\n",
        "    skip_connections = []\n",
        "    for down in self.downs:\n",
        "      x = down(x)\n",
        "      skip_connections.append(x)\n",
        "      x = self.pool(x)\n",
        "\n",
        "    x = self.bottleneck(x)\n",
        "    skip_connections = skip_connections[::-1]\n",
        "\n",
        "    for idx in range(0, len(self.ups), 2):\n",
        "      x = self.ups[idx](x)\n",
        "      skip_connection = skip_connections[idx//2]\n",
        "\n",
        "      #sol to ((1))\n",
        "      if x.shpae !=skip_connection.shape:\n",
        "        x = TF.resize(x,size = skip_connection.shpae[2:])\n",
        "\n",
        "        oncat_skip = torch.cat((skip_connection, x), dim=1)\n",
        "      x = self.ups[idx+1](concat_skip)\n",
        "\n",
        "    return self.final_conv(x)"
      ],
      "execution_count": 9,
      "outputs": []
    }
  ]
}